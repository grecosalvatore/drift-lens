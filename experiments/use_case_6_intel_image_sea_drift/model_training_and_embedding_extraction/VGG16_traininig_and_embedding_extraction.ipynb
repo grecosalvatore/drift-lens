{
 "cells": [
  {
   "cell_type": "code",
   "execution_count": 39,
   "id": "7e6151a0-8f3c-4f11-ab13-07eca648b69c",
   "metadata": {},
   "outputs": [
    {
     "name": "stdout",
     "output_type": "stream",
     "text": [
      "so far so good...\n"
     ]
    }
   ],
   "source": [
    "import pickle\n",
    "from sklearn.metrics import classification_report, confusion_matrix, roc_curve, auc, roc_auc_score\n",
    "import numpy as np\n",
    "\n",
    "# Load images from a pickle file\n",
    "with open(\"II_test.pickle\", \"rb\") as tr_images_file:\n",
    "    test = pickle.load(tr_images_file)\n",
    "with open(\"II_train.pickle\", \"rb\") as tr_images_file:\n",
    "    train = pickle.load(tr_images_file)\n",
    "with open(\"II_val.pickle\", \"rb\") as tr_images_file:\n",
    "    new = pickle.load(tr_images_file)\n",
    "with open(\"II_deg.pickle\", \"rb\") as tr_images_file:\n",
    "    deg = pickle.load(tr_images_file)\n",
    "\n",
    "\n",
    "#train=np.concat(train, img_tmp)"
   ]
  },
  {
   "cell_type": "code",
   "execution_count": 40,
   "id": "80c6cb7a-1651-4c53-bd6e-2f065625e905",
   "metadata": {},
   "outputs": [
    {
     "name": "stdout",
     "output_type": "stream",
     "text": [
      "eccezioni\n",
      "16\n",
      "eccezioni\n",
      "19\n",
      "eccezioni\n",
      "16\n",
      "eccezioni\n",
      "4\n"
     ]
    }
   ],
   "source": [
    "\n",
    "def unpk(data):\n",
    "\n",
    "    x=[]\n",
    "    y=[]\n",
    "    c=0\n",
    "    tot=[]\n",
    "    for image, labels in data:\n",
    "        try:\n",
    "            img=np.array(image).reshape((150,150,3))\n",
    "            x.append(img)\n",
    "            y.append(labels)\n",
    "        except Exception as e:\n",
    "            c=c+1\n",
    "\n",
    "    print(\"exceptions\")\n",
    "    print(c)\n",
    "    return x, y\n",
    "\n",
    "x_train,y_train=unpk(train)\n",
    "x_test,y_test=unpk(test)\n",
    "x_new, y_new=unpk(new)\n",
    "x_deg, y_deg=unpk(deg)\n",
    "c2=0\n"
   ]
  },
  {
   "cell_type": "code",
   "execution_count": 41,
   "id": "5dab89f2-1989-49c2-bb3a-64720fe0c209",
   "metadata": {},
   "outputs": [
    {
     "name": "stdout",
     "output_type": "stream",
     "text": [
      "6000\n",
      "4000\n"
     ]
    }
   ],
   "source": [
    "new_train_x=x_train.copy()\n",
    "new_train_y=y_train.copy()\n",
    "\n",
    "new_x_test=[]\n",
    "new_y_test=[]\n",
    "\n",
    "for i in range(len(x_test)):\n",
    "    if i <4000:\n",
    "        new_x_test.append(x_test[i])\n",
    "        new_y_test.append(y_test[i])\n",
    "    else:\n",
    "        new_train_x.append(x_test[i])\n",
    "        new_train_y.append(y_test[i])\n",
    "        \n",
    "for i in range(60):\n",
    "    new_train_x.append(new_train_x[i])\n",
    "    new_train_y.append(new_train_y[i])\n",
    "print(len(new_train_x))\n",
    "print(len(new_x_test))\n",
    "\n",
    "new_train_x=np.array(new_train_x)\n",
    "new_test_x=np.array(new_x_test)\n",
    "new_train_y=np.array(new_train_y)\n",
    "new_test_y=np.array(new_y_test)\n",
    "x_new=np.array(x_new)\n",
    "x_deg=np.array(x_deg)\n",
    "y_new=np.array(y_new)\n",
    "y_deg=np.array(y_deg)"
   ]
  },
  {
   "cell_type": "code",
   "execution_count": 42,
   "id": "505e9908-901d-4a3e-84d9-54ce6eb11256",
   "metadata": {},
   "outputs": [
    {
     "name": "stdout",
     "output_type": "stream",
     "text": [
      "6000\n",
      "4000\n",
      "4259\n",
      "2780\n",
      "<class 'numpy.ndarray'>\n",
      "<class 'numpy.ndarray'>\n",
      "<class 'numpy.ndarray'>\n",
      "<class 'numpy.ndarray'>\n"
     ]
    }
   ],
   "source": [
    "print(len(new_train_x))\n",
    "print(len(new_test_x))\n",
    "print(len(x_new))\n",
    "print(len(x_deg))\n",
    "print(type(new_train_x))\n",
    "print(type(new_train_x))\n",
    "print(type(x_new))\n",
    "print(type(x_deg))"
   ]
  },
  {
   "cell_type": "code",
   "execution_count": 43,
   "id": "84a261f5-28d0-439f-8e79-9d85b9f1b47f",
   "metadata": {},
   "outputs": [
    {
     "name": "stdout",
     "output_type": "stream",
     "text": [
      "[4 0 4 ... 3 0 1]\n"
     ]
    }
   ],
   "source": [
    "from tensorflow.keras.utils import to_categorical\n",
    "\n",
    "print(new_train_y)\n",
    "\n",
    "cat_lab_train=to_categorical(new_train_y)\n",
    "cat_lab_test=to_categorical(new_test_y)\n",
    "cat_lab_new=to_categorical(y_new)\n",
    "cat_lab_deg=to_categorical(y_deg)"
   ]
  },
  {
   "cell_type": "code",
   "execution_count": 44,
   "id": "f1214573-29b2-4512-84cd-82ce3ecd736e",
   "metadata": {},
   "outputs": [
    {
     "name": "stdout",
     "output_type": "stream",
     "text": [
      "Epoch 1/10\n",
      "120/120 [==============================] - 50s 409ms/step - loss: 2.1141 - acc: 0.8183\n",
      "Epoch 2/10\n",
      "120/120 [==============================] - 49s 412ms/step - loss: 0.1913 - acc: 0.9277\n",
      "Epoch 3/10\n",
      "120/120 [==============================] - 49s 411ms/step - loss: 0.1099 - acc: 0.9615\n",
      "Epoch 4/10\n",
      "120/120 [==============================] - 50s 413ms/step - loss: 0.0670 - acc: 0.9763\n",
      "Epoch 5/10\n",
      "120/120 [==============================] - 49s 412ms/step - loss: 0.0365 - acc: 0.9898\n",
      "Epoch 6/10\n",
      "120/120 [==============================] - 49s 412ms/step - loss: 0.0175 - acc: 0.9963\n",
      "Epoch 7/10\n",
      "120/120 [==============================] - 49s 412ms/step - loss: 0.0082 - acc: 0.9988\n",
      "Epoch 8/10\n",
      "120/120 [==============================] - 50s 413ms/step - loss: 0.0063 - acc: 0.9993\n",
      "Epoch 9/10\n",
      "120/120 [==============================] - 50s 415ms/step - loss: 0.0046 - acc: 0.9992\n",
      "Epoch 10/10\n",
      "120/120 [==============================] - 50s 415ms/step - loss: 0.0049 - acc: 0.9992\n"
     ]
    }
   ],
   "source": [
    "from tensorflow.keras.applications.vgg16 import VGG16\n",
    "from tensorflow.keras.utils import to_categorical\n",
    "import numpy as np\n",
    "from tensorflow.keras.models import Model, Sequential\n",
    "from tensorflow.keras.layers import Flatten, Dense\n",
    "\n",
    "\n",
    "base_model=VGG16(weights='imagenet', include_top=False, input_shape=(150,150,3))\n",
    "\n",
    "\n",
    "for layer in base_model.layers[:]:\n",
    "        layer.trainable = False\n",
    "        \n",
    "model=Sequential()\n",
    "model.add(base_model)\n",
    "model.add(Flatten(name=\"fl\"))\n",
    "model.add(Dense(256, activation=\"relu\", name=\"fc\"))\n",
    "model.add(Dense(5, activation=\"softmax\"))\n",
    "\n",
    "model.compile(loss=\"categorical_crossentropy\", optimizer=\"sgd\", metrics=[\"acc\"])\n",
    "\n",
    "model.fit(new_train_x, cat_lab_train, batch_size=50, epochs=10, validation_split=0)\n",
    "\n",
    "\n",
    "model_e= Model(inputs=model.input, outputs=model.get_layer('fc').output)\n",
    "#model_e= base_model\n"
   ]
  },
  {
   "cell_type": "code",
   "execution_count": 45,
   "id": "313da298-1526-4137-b3aa-738f455941ab",
   "metadata": {},
   "outputs": [
    {
     "name": "stdout",
     "output_type": "stream",
     "text": [
      "Model: \"sequential_7\"\n",
      "_________________________________________________________________\n",
      " Layer (type)                Output Shape              Param #   \n",
      "=================================================================\n",
      " vgg16 (Functional)          (None, 4, 4, 512)         14714688  \n",
      "                                                                 \n",
      " fl (Flatten)                (None, 8192)              0         \n",
      "                                                                 \n",
      " fc (Dense)                  (None, 256)               2097408   \n",
      "                                                                 \n",
      " dense_6 (Dense)             (None, 5)                 1285      \n",
      "                                                                 \n",
      "=================================================================\n",
      "Total params: 16813381 (64.14 MB)\n",
      "Trainable params: 2098693 (8.01 MB)\n",
      "Non-trainable params: 14714688 (56.13 MB)\n",
      "_________________________________________________________________\n",
      "None\n"
     ]
    }
   ],
   "source": [
    "print(model.summary())\n",
    "#print(len(model))"
   ]
  },
  {
   "cell_type": "code",
   "execution_count": 46,
   "id": "5d7c71be-8512-41f1-98b2-96a6fd432d81",
   "metadata": {},
   "outputs": [
    {
     "name": "stdout",
     "output_type": "stream",
     "text": [
      "4\n",
      "4\n",
      "4\n",
      "5\n"
     ]
    }
   ],
   "source": [
    "print(new_test_y[0])\n",
    "print(new_train_y[0])\n",
    "print(y_new[0])\n",
    "print(y_deg[0])"
   ]
  },
  {
   "cell_type": "code",
   "execution_count": 47,
   "id": "c6af19c2-2a81-47e4-acba-c7b53b2cc0d2",
   "metadata": {},
   "outputs": [
    {
     "name": "stdout",
     "output_type": "stream",
     "text": [
      "125/125 [==============================] - 34s 274ms/step\n",
      "[[755   2   7   2   7]\n",
      " [  4 666   3  62   4]\n",
      " [  8   3 667   2 142]\n",
      " [  0  60   4 745   2]\n",
      " [  1   0 111   2 741]]\n",
      "Classification Report:\n",
      "              precision    recall  f1-score   support\n",
      "\n",
      "           0       0.98      0.98      0.98       773\n",
      "           1       0.91      0.90      0.91       739\n",
      "           2       0.84      0.81      0.83       822\n",
      "           3       0.92      0.92      0.92       811\n",
      "           4       0.83      0.87      0.85       855\n",
      "\n",
      "    accuracy                           0.89      4000\n",
      "   macro avg       0.90      0.89      0.90      4000\n",
      "weighted avg       0.89      0.89      0.89      4000\n",
      "\n"
     ]
    }
   ],
   "source": [
    "from sklearn.metrics import classification_report, confusion_matrix, roc_curve, auc, roc_auc_score\n",
    "\n",
    "\n",
    "pred=model.predict(new_test_x)\n",
    "\n",
    "print(confusion_matrix(new_test_y, pred.argmax(1)))\n",
    "\n",
    "# Print classification report\n",
    "print(\"Classification Report:\")\n",
    "print(classification_report(new_test_y, pred.argmax(1)))"
   ]
  },
  {
   "cell_type": "code",
   "execution_count": 48,
   "id": "84917618-42ac-483d-a82d-198300cec308",
   "metadata": {},
   "outputs": [],
   "source": [
    "\n",
    "def embedding_creation(X, y):\n",
    "    predictions=model.predict(X)\n",
    "    #conv_embedding=base_model.predict(X)\n",
    "    embedding=model_e.predict(X)\n",
    "\n",
    "    emb_list=[]\n",
    "    \n",
    "    prediction_list=[]\n",
    "\n",
    "    for i in range(len(X)):\n",
    "        emb_list.append(embedding[i])\n",
    "        #conv_emb_list.append(conv_embedding[i])\n",
    "        prediction_list.append(predictions[i])\n",
    "\n",
    "    emb_list=np.array(emb_list)\n",
    "    #conv_emb_list=np.array(conv_emb_list)\n",
    "\n",
    "    prediction_list=np.array(prediction_list)\n",
    "    prediction_list=np.argmax(prediction_list, axis=1)\n",
    "    \n",
    "\n",
    "    return prediction_list, emb_list,  y\n",
    "    \n",
    "def save_embeddings(embedding, predicted_label, true_label, path):\n",
    "    fp = h5py.File(path, \"w\")\n",
    "    fp.create_dataset(\"embedding\", data=embedding, compression=\"gzip\")\n",
    "    fp.create_dataset(\"predicted_label\", data=predicted_label, compression=\"gzip\") \n",
    "    fp.create_dataset(\"original_label\", data=true_label, compression=\"gzip\") \n",
    "    fp.close()\n",
    "    print(\"embeddings saved\")\n"
   ]
  },
  {
   "cell_type": "code",
   "execution_count": 49,
   "id": "ebc7ce4c-ce41-4c1b-a19f-f11edddb3d22",
   "metadata": {},
   "outputs": [
    {
     "name": "stdout",
     "output_type": "stream",
     "text": [
      "training embedding extraction...\n",
      "188/188 [==============================] - 50s 263ms/step\n",
      "188/188 [==============================] - 50s 264ms/step\n",
      "test embedding creation...\n",
      "125/125 [==============================] - 32s 255ms/step\n",
      "125/125 [==============================] - 34s 269ms/step\n",
      "new embedding creation...\n",
      "134/134 [==============================] - 36s 266ms/step\n",
      "134/134 [==============================] - 36s 265ms/step\n",
      "degerated data embedding creation...\n",
      "87/87 [==============================] - 23s 258ms/step\n",
      "87/87 [==============================] - 23s 261ms/step\n",
      "saving the embeddings...\n",
      "embeddings saved\n",
      "embeddings saved\n",
      "embeddings saved\n",
      "embeddings saved\n"
     ]
    }
   ],
   "source": [
    "import h5py\n",
    "\n",
    "\n",
    "print(\"training embedding extraction...\")\n",
    "prediction_training, embedding_training, true_label_trainining=embedding_creation(new_train_x, new_train_y)\n",
    "print(\"test embedding creation...\")\n",
    "prediction_test, embedding_test,  true_label_test=embedding_creation(new_test_x, new_test_y)\n",
    "print(\"new embedding creation...\")\n",
    "prediction_new, embedding_new, true_label_new=embedding_creation(x_new, y_new)\n",
    "print(\"drifted data embedding creation...\")\n",
    "#el=False\n",
    "prediction_deg, embedding_deg, true_label_deg=embedding_creation(x_deg, y_deg)\n",
    "\n",
    "print(\"saving the embeddings...\")\n",
    "\n",
    "save_embeddings(embedding_training, prediction_training, true_label_trainining, \"VGG-16_II_train.hdf5\" )\n",
    "save_embeddings(embedding_test, prediction_test, true_label_test, \"VGG-16_II_test.hdf5\" )\n",
    "save_embeddings(embedding_new, prediction_new, true_label_new, \"VGG-16_II_new.hdf5\" )\n",
    "save_embeddings(embedding_deg, prediction_deg, true_label_deg, \"VGG-16_II_deg.hdf5\" )\n",
    "\n"
   ]
  },
  {
   "cell_type": "code",
   "execution_count": null,
   "id": "c1a3148d-5a1c-4450-a05f-1c561bf5b096",
   "metadata": {},
   "outputs": [],
   "source": []
  },
  {
   "cell_type": "code",
   "execution_count": null,
   "id": "b1b97722-2ed9-42c4-b10c-46eb17e1de7e",
   "metadata": {},
   "outputs": [],
   "source": []
  }
 ],
 "metadata": {
  "kernelspec": {
   "display_name": "Python 3 (ipykernel)",
   "language": "python",
   "name": "python3"
  },
  "language_info": {
   "codemirror_mode": {
    "name": "ipython",
    "version": 3
   },
   "file_extension": ".py",
   "mimetype": "text/x-python",
   "name": "python",
   "nbconvert_exporter": "python",
   "pygments_lexer": "ipython3",
   "version": "3.9.13"
  }
 },
 "nbformat": 4,
 "nbformat_minor": 5
}