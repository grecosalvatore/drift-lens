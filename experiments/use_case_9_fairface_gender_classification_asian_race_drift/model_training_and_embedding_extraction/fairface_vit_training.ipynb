{
 "cells": [
  {
   "cell_type": "markdown",
   "id": "da137538-8660-4474-9f13-9fcb525a6dba",
   "metadata": {},
   "source": [
    "# Use Case 8: Gender Classification in Face Images - Model Training"
   ]
  },
  {
   "cell_type": "code",
   "execution_count": 1,
   "id": "99da80e7-aa3b-4da4-9059-0ed5f27a9620",
   "metadata": {
    "tags": []
   },
   "outputs": [
    {
     "name": "stderr",
     "output_type": "stream",
     "text": [
      "/home/students/s289159/.conda/envs/airbnb-XAI-env/lib/python3.10/site-packages/tqdm/auto.py:22: TqdmWarning: IProgress not found. Please update jupyter and ipywidgets. See https://ipywidgets.readthedocs.io/en/stable/user_install.html\n",
      "  from .autonotebook import tqdm as notebook_tqdm\n"
     ]
    }
   ],
   "source": [
    "import matplotlib.pyplot as plt\n",
    "import seaborn as sns\n",
    "\n",
    "import torch\n",
    "import torchvision.transforms as transforms\n",
    "from transformers import ViTForImageClassification, ViTImageProcessor, Trainer, TrainingArguments\n",
    "from datasets import DatasetDict, concatenate_datasets, Dataset\n",
    "\n",
    "import pandas as pd\n",
    "from sklearn.model_selection import StratifiedShuffleSplit\n",
    "\n",
    "import os"
   ]
  },
  {
   "cell_type": "code",
   "execution_count": 2,
   "id": "a3563ad3-58cb-4eda-915c-050f7589dc0d",
   "metadata": {
    "tags": []
   },
   "outputs": [
    {
     "name": "stderr",
     "output_type": "stream",
     "text": [
      "Found cached dataset fairface (/home/students/s289159/.cache/huggingface/datasets/nateraw___fairface/default/0.0.0/9d7c8b446334b65d582e9a176cefe55c7a92dff164a02e433fe59b5dffdbfe36)\n",
      "100%|██████████| 2/2 [00:00<00:00, 126.74it/s]\n"
     ]
    }
   ],
   "source": [
    "from io import BytesIO\n",
    "from PIL import Image\n",
    "\n",
    "import datasets\n",
    "\n",
    "\n",
    "\n",
    "ds = datasets.load_dataset('nateraw/fairface')\n",
    "#ds = datasets.load_dataset('nateraw/fairface', download_mode=\"force_redownload\")\n",
    "\n",
    "\n",
    "# Get number of rows in train and validation sets\n",
    "num_train = ds[\"train\"].num_rows\n",
    "num_validation = ds[\"validation\"].num_rows\n",
    "\n",
    "# Add 'id' column\n",
    "ds[\"train\"] = ds[\"train\"].add_column(\"id\", list(range(num_train)))\n",
    "ds[\"validation\"] = ds[\"validation\"].add_column(\"id\", list(range(num_train, num_train + num_validation)))\n",
    "\n",
    "# Select 2000 samples from train and 500 from validation\n",
    "#small_train = ds[\"train\"].shuffle(seed=42).select(range(2000))\n",
    "#small_val = ds[\"validation\"].shuffle(seed=42).select(range(500))\n",
    "\n",
    "# Create a new DatasetDict\n",
    "#ds = datasets.DatasetDict({\"train\": small_train, \"validation\": small_val})"
   ]
  },
  {
   "cell_type": "code",
   "execution_count": 3,
   "id": "56068441-6ca8-4ac5-9d99-9a999e6331ac",
   "metadata": {
    "tags": []
   },
   "outputs": [
    {
     "data": {
      "text/plain": [
       "DatasetDict({\n",
       "    train: Dataset({\n",
       "        features: ['img_bytes', 'age', 'gender', 'race', 'id'],\n",
       "        num_rows: 86744\n",
       "    })\n",
       "    validation: Dataset({\n",
       "        features: ['img_bytes', 'age', 'gender', 'race', 'id'],\n",
       "        num_rows: 10954\n",
       "    })\n",
       "})"
      ]
     },
     "execution_count": 3,
     "metadata": {},
     "output_type": "execute_result"
    }
   ],
   "source": [
    "ds"
   ]
  },
  {
   "cell_type": "code",
   "execution_count": 4,
   "id": "c8c35b49-9a4d-4835-b275-20597808b277",
   "metadata": {
    "tags": []
   },
   "outputs": [],
   "source": [
    "AGE_CLASSES = [\"0-2\", \"3-9\", \"10-19\", \"20-29\", \"30-39\", \"40-49\", \"50-59\", \"60-69\", \"more than 70\"]\n",
    "GENDER_CLASSES = [\"Male\", \"Female\"]\n",
    "RACE_CLASSES = [\"East Asian\", \"Indian\", \"Black\", \"White\", \"Middle Eastern\", \"Latino_Hispanic\", \"Southeast Asian\"]\n",
    "\n",
    "# Create dictionaries mapping class names to their index\n",
    "age2id = {age: idx for idx, age in enumerate(AGE_CLASSES)}\n",
    "gender2id = {gender: idx for idx, gender in enumerate(GENDER_CLASSES)}\n",
    "race2id = {race: idx for idx, race in enumerate(RACE_CLASSES)}\n",
    "\n",
    "# Create reverse mappings from index to class name\n",
    "id2age = {idx: age for age, idx in age2id.items()}\n",
    "id2gender = {idx: gender for gender, idx in gender2id.items()}\n",
    "id2race = {idx: race for race, idx in race2id.items()}"
   ]
  },
  {
   "cell_type": "code",
   "execution_count": 5,
   "id": "173849f3-910d-41e6-92f2-1db83727d786",
   "metadata": {
    "tags": []
   },
   "outputs": [],
   "source": [
    "def plot_age_distribution(train_df, val_df):\n",
    "    fig, axes = plt.subplots(1, 2, figsize=(14, 5), sharey=True)\n",
    "\n",
    "    # Train dataset\n",
    "    sns.countplot(x=train_df[\"age\"], order=AGE_CLASSES, ax=axes[0], palette=\"Blues\")\n",
    "    axes[0].set_title(\"Age Distribution - Train\")\n",
    "    axes[0].set_xlabel(\"Age Group\")\n",
    "    axes[0].set_ylabel(\"Count\")\n",
    "    axes[0].tick_params(axis=\"x\", rotation=90)  # Rotate labels\n",
    "\n",
    "    # Validation dataset\n",
    "    sns.countplot(x=val_df[\"age\"], order=AGE_CLASSES, ax=axes[1], palette=\"Oranges\")\n",
    "    axes[1].set_title(\"Age Distribution - Validation\")\n",
    "    axes[1].set_xlabel(\"Age Group\")\n",
    "    axes[1].tick_params(axis=\"x\", rotation=90)  # Rotate labels\n",
    "\n",
    "    plt.tight_layout()\n",
    "    plt.show()\n",
    "\n",
    "# Function to plot gender distribution\n",
    "def plot_gender_distribution(train_df, val_df):\n",
    "    fig, axes = plt.subplots(1, 2, figsize=(12, 5), sharey=True)\n",
    "\n",
    "    # Train dataset\n",
    "    sns.countplot(x=train_df[\"gender\"], order=GENDER_CLASSES, ax=axes[0], palette=\"Blues\")\n",
    "    axes[0].set_title(\"Gender Distribution - Train\")\n",
    "    axes[0].set_xlabel(\"Gender\")\n",
    "    axes[0].set_ylabel(\"Count\")\n",
    "\n",
    "    # Validation dataset\n",
    "    sns.countplot(x=val_df[\"gender\"], order=GENDER_CLASSES, ax=axes[1], palette=\"Oranges\")\n",
    "    axes[1].set_title(\"Gender Distribution - Validation\")\n",
    "    axes[1].set_xlabel(\"Gender\")\n",
    "\n",
    "    plt.tight_layout()\n",
    "    plt.show()\n",
    "\n",
    "# Function to plot race distribution\n",
    "def plot_race_distribution(train_df, val_df):\n",
    "    fig, axes = plt.subplots(1, 2, figsize=(12, 5), sharey=True)\n",
    "\n",
    "    # Train dataset\n",
    "    sns.countplot(x=train_df[\"race\"], order=RACE_CLASSES, ax=axes[0], palette=\"Blues\")\n",
    "    axes[0].set_title(\"Race Distribution - Train\")\n",
    "    axes[0].set_xlabel(\"Race\")\n",
    "    axes[0].set_ylabel(\"Count\")\n",
    "    axes[0].tick_params(axis=\"x\", rotation=90)  # Rotate labels\n",
    "\n",
    "    # Validation dataset\n",
    "    sns.countplot(x=val_df[\"race\"], order=RACE_CLASSES, ax=axes[1], palette=\"Oranges\")\n",
    "    axes[1].set_title(\"Race Distribution - Validation\")\n",
    "    axes[1].set_xlabel(\"Race\")\n",
    "    axes[1].tick_params(axis=\"x\", rotation=90)  # Rotate labels\n",
    "\n",
    "    plt.tight_layout()\n",
    "    plt.show()\n",
    "\n",
    "# Function to plot age distribution\n",
    "def plot_age_distribution_four_splits(train_df, test_df, new_unseen_df, drifted_df):\n",
    "    fig, axes = plt.subplots(1, 4, figsize=(20, 5), sharey=True)\n",
    "\n",
    "    datasets = [train_df, test_df, new_unseen_df, drifted_df]\n",
    "    titles = [\"Train\", \"Test\", \"New Unseen\", \"Drifted\"]\n",
    "    palettes = [\"Blues\", \"Greens\", \"Purples\", \"Reds\"]\n",
    "\n",
    "    for i, df in enumerate(datasets):\n",
    "        sns.countplot(x=df[\"age\"], order=AGE_CLASSES, ax=axes[i], palette=palettes[i])\n",
    "        axes[i].set_title(f\"Age Distribution - {titles[i]}\")\n",
    "        axes[i].set_xlabel(\"Age Group\")\n",
    "        axes[i].tick_params(axis=\"x\", rotation=90)\n",
    "\n",
    "    axes[0].set_ylabel(\"Count\")  # Set y-label only on the first plot\n",
    "    plt.tight_layout()\n",
    "    plt.show()\n",
    "\n",
    "# Function to plot gender distribution\n",
    "def plot_gender_distribution_four_splits(train_df, test_df, new_unseen_df, drifted_df):\n",
    "    fig, axes = plt.subplots(1, 4, figsize=(20, 5), sharey=True)\n",
    "\n",
    "    datasets = [train_df, test_df, new_unseen_df, drifted_df]\n",
    "    titles = [\"Train\", \"Test\", \"New Unseen\", \"Drifted\"]\n",
    "    palettes = [\"Blues\", \"Greens\", \"Purples\", \"Reds\"]\n",
    "\n",
    "    for i, df in enumerate(datasets):\n",
    "        sns.countplot(x=df[\"gender\"], order=GENDER_CLASSES, ax=axes[i], palette=palettes[i])\n",
    "        axes[i].set_title(f\"Gender Distribution - {titles[i]}\")\n",
    "        axes[i].set_xlabel(\"Gender\")\n",
    "\n",
    "    axes[0].set_ylabel(\"Count\")  \n",
    "    plt.tight_layout()\n",
    "    plt.show()\n",
    "\n",
    "# Function to plot race distribution\n",
    "def plot_race_distribution_four_splits(train_df, test_df, new_unseen_df, drifted_df):\n",
    "    fig, axes = plt.subplots(1, 4, figsize=(20, 5), sharey=True)\n",
    "\n",
    "    datasets = [train_df, test_df, new_unseen_df, drifted_df]\n",
    "    titles = [\"Train\", \"Test\", \"New Unseen\", \"Drifted\"]\n",
    "    palettes = [\"Blues\", \"Greens\", \"Purples\", \"Reds\"]\n",
    "\n",
    "    for i, df in enumerate(datasets):\n",
    "        sns.countplot(x=df[\"race\"], order=RACE_CLASSES, ax=axes[i], palette=palettes[i])\n",
    "        axes[i].set_title(f\"Race Distribution - {titles[i]}\")\n",
    "        axes[i].set_xlabel(\"Race\")\n",
    "        axes[i].tick_params(axis=\"x\", rotation=90)\n",
    "\n",
    "    axes[0].set_ylabel(\"Count\")  \n",
    "    plt.tight_layout()\n",
    "    plt.show()\n",
    "\n"
   ]
  },
  {
   "cell_type": "code",
   "execution_count": 6,
   "id": "4ced575a-176e-476a-ad2a-087f39aad924",
   "metadata": {
    "tags": []
   },
   "outputs": [],
   "source": [
    "# Convert dataset to pandas dataframe\n",
    "train_df = ds[\"train\"].to_pandas()\n",
    "val_df = ds[\"validation\"].to_pandas()\n",
    "\n",
    "train_df = ds[\"train\"].to_pandas()\n",
    "val_df = ds[\"validation\"].to_pandas()\n",
    "\n",
    "train_df[\"age\"] = train_df[\"age\"].map(lambda x: AGE_CLASSES[x])\n",
    "val_df[\"age\"] = val_df[\"age\"].map(lambda x: AGE_CLASSES[x])\n",
    "\n",
    "train_df[\"gender\"] = train_df[\"gender\"].map(lambda x: GENDER_CLASSES[x])\n",
    "val_df[\"gender\"] = val_df[\"gender\"].map(lambda x: GENDER_CLASSES[x])\n",
    "\n",
    "train_df[\"race\"] = train_df[\"race\"].map(lambda x: RACE_CLASSES[x])\n",
    "val_df[\"race\"] = val_df[\"race\"].map(lambda x: RACE_CLASSES[x])"
   ]
  },
  {
   "cell_type": "code",
   "execution_count": 7,
   "id": "2ae33a36-d98a-4f7a-8bd2-2050a0a8bca3",
   "metadata": {
    "tags": []
   },
   "outputs": [
    {
     "data": {
      "image/png": "[encoded data removed]",
      "text/plain": [
       "<Figure size 1008x360 with 2 Axes>"
      ]
     },
     "metadata": {
      "needs_background": "light"
     },
     "output_type": "display_data"
    }
   ],
   "source": [
    "plot_age_distribution(train_df, val_df)"
   ]
  },
  {
   "cell_type": "code",
   "execution_count": 8,
   "id": "bfb7f5b0-e581-4d89-9316-3dcdd935e9e9",
   "metadata": {
    "tags": []
   },
   "outputs": [
    {
     "data": {
      "image/png": "[encoded data removed]",
      "text/plain": [
       "<Figure size 864x360 with 2 Axes>"
      ]
     },
     "metadata": {
      "needs_background": "light"
     },
     "output_type": "display_data"
    }
   ],
   "source": [
    "plot_gender_distribution(train_df, val_df)"
   ]
  },
  {
   "cell_type": "code",
   "execution_count": 9,
   "id": "77d32304-35d8-4278-9cde-468a0c42b0e0",
   "metadata": {
    "tags": []
   },
   "outputs": [
    {
     "data": {
      "image/png": "[encoded data removed]",
      "text/plain": [
       "<Figure size 864x360 with 2 Axes>"
      ]
     },
     "metadata": {
      "needs_background": "light"
     },
     "output_type": "display_data"
    }
   ],
   "source": [
    "plot_race_distribution(train_df, val_df)"
   ]
  },
  {
   "cell_type": "markdown",
   "id": "ae14d166-9229-4f11-b403-350fc17cf0f6",
   "metadata": {
    "tags": []
   },
   "source": [
    "## Extract drifted data"
   ]
  },
  {
   "cell_type": "code",
   "execution_count": 10,
   "id": "aa111eb9-2530-496f-a664-c26f53c7d5cb",
   "metadata": {
    "tags": []
   },
   "outputs": [
    {
     "name": "stderr",
     "output_type": "stream",
     "text": [
      "Loading cached processed dataset at /home/students/s289159/.cache/huggingface/datasets/nateraw___fairface/default/0.0.0/9d7c8b446334b65d582e9a176cefe55c7a92dff164a02e433fe59b5dffdbfe36/cache-6c365a412aefcade.arrow\n",
      "Loading cached processed dataset at /home/students/s289159/.cache/huggingface/datasets/nateraw___fairface/default/0.0.0/9d7c8b446334b65d582e9a176cefe55c7a92dff164a02e433fe59b5dffdbfe36/cache-9b0db017ec63f5ed.arrow\n",
      "Loading cached processed dataset at /home/students/s289159/.cache/huggingface/datasets/nateraw___fairface/default/0.0.0/9d7c8b446334b65d582e9a176cefe55c7a92dff164a02e433fe59b5dffdbfe36/cache-d256e04dbf0212e0.arrow\n",
      "Loading cached processed dataset at /home/students/s289159/.cache/huggingface/datasets/nateraw___fairface/default/0.0.0/9d7c8b446334b65d582e9a176cefe55c7a92dff164a02e433fe59b5dffdbfe36/cache-dff50d93e38749a7.arrow\n"
     ]
    }
   ],
   "source": [
    "drifted_race = \"Black\"\n",
    "\n",
    "# Separate drifted samples (race == \"Black\")\n",
    "drifted_train = ds[\"train\"].filter(lambda example: example[\"race\"] == race2id[drifted_race])\n",
    "drifted_validation = ds[\"validation\"].filter(lambda example: example[\"race\"] == race2id[drifted_race])\n",
    "\n",
    "# Merge drifted samples into a single dataset\n",
    "drifted_dataset = concatenate_datasets([drifted_train, drifted_validation])\n",
    "\n",
    "# Remove the drifted samples from the original sets\n",
    "filtered_train = ds[\"train\"].filter(lambda example: example[\"race\"] != race2id[drifted_race])\n",
    "filtered_validation = ds[\"validation\"].filter(lambda example: example[\"race\"] != race2id[drifted_race])\n",
    "\n",
    "# Create a new DatasetDict\n",
    "ds = DatasetDict({\n",
    "    \"train\": filtered_train,\n",
    "    \"test\": filtered_validation,\n",
    "    \"drifted\": drifted_dataset\n",
    "})"
   ]
  },
  {
   "cell_type": "code",
   "execution_count": 11,
   "id": "952bea87-c430-4bc3-b9e6-d3f8386fd097",
   "metadata": {
    "tags": []
   },
   "outputs": [
    {
     "data": {
      "text/plain": [
       "DatasetDict({\n",
       "    train: Dataset({\n",
       "        features: ['img_bytes', 'age', 'gender', 'race', 'id'],\n",
       "        num_rows: 74425\n",
       "    })\n",
       "    test: Dataset({\n",
       "        features: ['img_bytes', 'age', 'gender', 'race', 'id'],\n",
       "        num_rows: 9438\n",
       "    })\n",
       "    drifted: Dataset({\n",
       "        features: ['img_bytes', 'age', 'gender', 'race', 'id'],\n",
       "        num_rows: 13835\n",
       "    })\n",
       "})"
      ]
     },
     "execution_count": 11,
     "metadata": {},
     "output_type": "execute_result"
    }
   ],
   "source": [
    "ds"
   ]
  },
  {
   "cell_type": "markdown",
   "id": "4d2b6f60-db5e-48d4-81c9-ab676e96b0b8",
   "metadata": {
    "tags": []
   },
   "source": [
    "## Extract new unseen data"
   ]
  },
  {
   "cell_type": "code",
   "execution_count": 12,
   "id": "71a38496-ca70-42c3-b241-ca97e9636fc5",
   "metadata": {
    "tags": []
   },
   "outputs": [],
   "source": [
    "# Convert train dataset to Pandas DataFrame\n",
    "train_df = ds[\"train\"].to_pandas()\n",
    "\n",
    "# Convert all relevant columns to string before concatenation\n",
    "train_df[\"stratify_col\"] = train_df[\"gender\"].astype(str) + \"_\" + train_df[\"race\"].astype(str) + \"_\" + train_df[\"age\"].astype(str)\n",
    "\n",
    "# Define stratified sampling strategy\n",
    "splitter = StratifiedShuffleSplit(n_splits=1, test_size=30000, random_state=42)\n",
    "\n",
    "# Perform split\n",
    "for train_idx, unseen_idx in splitter.split(train_df, train_df[\"stratify_col\"]):\n",
    "    new_train_df = train_df.iloc[train_idx]\n",
    "    new_unseen_df = train_df.iloc[unseen_idx]\n",
    "    \n",
    "# Reset index before converting back to Hugging Face Dataset\n",
    "new_train_df = new_train_df.reset_index(drop=True)\n",
    "new_unseen_df = new_unseen_df.reset_index(drop=True)\n",
    "\n",
    "# Convert back to Hugging Face datasets\n",
    "new_train_dataset = Dataset.from_pandas(new_train_df.drop(columns=[\"stratify_col\"]))\n",
    "new_unseen_dataset = Dataset.from_pandas(new_unseen_df.drop(columns=[\"stratify_col\"]))\n",
    "\n",
    "# Update DatasetDict\n",
    "ds = DatasetDict({\n",
    "    \"train\": new_train_dataset,\n",
    "    \"test\": ds[\"test\"],\n",
    "    \"drifted\": ds[\"drifted\"],\n",
    "    \"new_unseen\": new_unseen_dataset\n",
    "})"
   ]
  },
  {
   "cell_type": "code",
   "execution_count": 13,
   "id": "cc946651-3b44-4a00-848c-128ddc1a0c64",
   "metadata": {
    "tags": []
   },
   "outputs": [
    {
     "data": {
      "text/plain": [
       "DatasetDict({\n",
       "    train: Dataset({\n",
       "        features: ['img_bytes', 'age', 'gender', 'race', 'id'],\n",
       "        num_rows: 44425\n",
       "    })\n",
       "    test: Dataset({\n",
       "        features: ['img_bytes', 'age', 'gender', 'race', 'id'],\n",
       "        num_rows: 9438\n",
       "    })\n",
       "    drifted: Dataset({\n",
       "        features: ['img_bytes', 'age', 'gender', 'race', 'id'],\n",
       "        num_rows: 13835\n",
       "    })\n",
       "    new_unseen: Dataset({\n",
       "        features: ['img_bytes', 'age', 'gender', 'race', 'id'],\n",
       "        num_rows: 30000\n",
       "    })\n",
       "})"
      ]
     },
     "execution_count": 13,
     "metadata": {},
     "output_type": "execute_result"
    }
   ],
   "source": [
    "ds"
   ]
  },
  {
   "cell_type": "code",
   "execution_count": 14,
   "id": "a434be7d-a1ec-4102-9205-ed07aea6c9aa",
   "metadata": {
    "tags": []
   },
   "outputs": [],
   "source": [
    "# Convert the Hugging Face datasets to Pandas DataFrames\n",
    "train_df = ds[\"train\"].to_pandas()\n",
    "test_df = ds[\"test\"].to_pandas()\n",
    "new_unseen_df = ds[\"new_unseen\"].to_pandas()\n",
    "drifted_df = ds[\"drifted\"].to_pandas()\n",
    "\n",
    "# Map the numeric values to the class names\n",
    "train_df[\"age\"] = train_df[\"age\"].map(lambda x: AGE_CLASSES[x])\n",
    "test_df[\"age\"] = test_df[\"age\"].map(lambda x: AGE_CLASSES[x])\n",
    "new_unseen_df[\"age\"] = new_unseen_df[\"age\"].map(lambda x: AGE_CLASSES[x])\n",
    "drifted_df[\"age\"] = drifted_df[\"age\"].map(lambda x: AGE_CLASSES[x])\n",
    "\n",
    "train_df[\"gender\"] = train_df[\"gender\"].map(lambda x: GENDER_CLASSES[x])\n",
    "test_df[\"gender\"] = test_df[\"gender\"].map(lambda x: GENDER_CLASSES[x])\n",
    "new_unseen_df[\"gender\"] = new_unseen_df[\"gender\"].map(lambda x: GENDER_CLASSES[x])\n",
    "drifted_df[\"gender\"] = drifted_df[\"gender\"].map(lambda x: GENDER_CLASSES[x])\n",
    "\n",
    "train_df[\"race\"] = train_df[\"race\"].map(lambda x: RACE_CLASSES[x])\n",
    "test_df[\"race\"] = test_df[\"race\"].map(lambda x: RACE_CLASSES[x])\n",
    "new_unseen_df[\"race\"] = new_unseen_df[\"race\"].map(lambda x: RACE_CLASSES[x])\n",
    "drifted_df[\"race\"] = drifted_df[\"race\"].map(lambda x: RACE_CLASSES[x])"
   ]
  },
  {
   "cell_type": "code",
   "execution_count": 15,
   "id": "a02f5498-6d52-446d-a861-15d8ff0d3bad",
   "metadata": {
    "tags": []
   },
   "outputs": [
    {
     "data": {
      "image/png": "[encoded data removed]",
      "text/plain": [
       "<Figure size 1440x360 with 4 Axes>"
      ]
     },
     "metadata": {
      "needs_background": "light"
     },
     "output_type": "display_data"
    }
   ],
   "source": [
    "plot_age_distribution_four_splits(train_df, test_df, new_unseen_df, drifted_df)"
   ]
  },
  {
   "cell_type": "code",
   "execution_count": 16,
   "id": "9225c156-7864-412b-b49f-9e45b6de38ca",
   "metadata": {
    "tags": []
   },
   "outputs": [
    {
     "data": {
      "image/png": "[encoded data removed]",
      "text/plain": [
       "<Figure size 1440x360 with 4 Axes>"
      ]
     },
     "metadata": {
      "needs_background": "light"
     },
     "output_type": "display_data"
    }
   ],
   "source": [
    "plot_gender_distribution_four_splits(train_df, test_df, new_unseen_df, drifted_df)"
   ]
  },
  {
   "cell_type": "code",
   "execution_count": 17,
   "id": "d7f2ce75-89d1-4ee6-ad9b-95c9e0b42acb",
   "metadata": {
    "tags": []
   },
   "outputs": [
    {
     "data": {
      "image/png": "[encoded data removed]",
      "text/plain": [
       "<Figure size 1440x360 with 4 Axes>"
      ]
     },
     "metadata": {
      "needs_background": "light"
     },
     "output_type": "display_data"
    }
   ],
   "source": [
    "plot_race_distribution_four_splits(train_df, test_df, new_unseen_df, drifted_df)"
   ]
  },
  {
   "cell_type": "markdown",
   "id": "d3e66284-a07a-4907-9dfe-a5c52cf8c2a6",
   "metadata": {},
   "source": [
    "## Save the Data Splits"
   ]
  },
  {
   "cell_type": "code",
   "execution_count": 18,
   "id": "9157db8d-ea7f-4c9a-8e03-98fd9c09e6d0",
   "metadata": {
    "tags": []
   },
   "outputs": [
    {
     "name": "stderr",
     "output_type": "stream",
     "text": [
      "                                                                                                \r"
     ]
    }
   ],
   "source": [
    "ds.save_to_disk(\"fairface/data\")"
   ]
  },
  {
   "cell_type": "code",
   "execution_count": 19,
   "id": "1aa155fc-a4a2-4b83-98ea-3d9ace8025d6",
   "metadata": {
    "tags": []
   },
   "outputs": [],
   "source": [
    "def bytes_to_pil(example_batch):\n",
    "    example_batch['img'] = [\n",
    "        Image.open(BytesIO(b)) for b in example_batch.pop('img_bytes')\n",
    "    ]\n",
    "    return example_batch\n",
    "\n",
    "ds = ds.with_transform(bytes_to_pil)"
   ]
  },
  {
   "cell_type": "markdown",
   "id": "22cce6d4-7460-4d50-bd8b-b8d0e7c4aad7",
   "metadata": {},
   "source": [
    "## Define Image Transformations\n",
    "Since the dataset is already transformed into PIL images, we need to preprocess them for ViT."
   ]
  },
  {
   "cell_type": "code",
   "execution_count": 20,
   "id": "c82d0f6c-bf0b-4eeb-8d49-781200a8165b",
   "metadata": {
    "tags": []
   },
   "outputs": [],
   "source": [
    "\n",
    "\n",
    "model_path = \"google/vit-base-patch16-224\"\n",
    "processor = ViTImageProcessor.from_pretrained(model_path)\n",
    "\n",
    "def transform(example):\n",
    "    # Process image\n",
    "    encoding = processor(images=example[\"img\"], return_tensors=\"pt\")\n",
    "\n",
    "    # Remove batch dimension (ViT expects (3, 224, 224), not (1, 3, 224, 224))\n",
    "    encoding[\"pixel_values\"] = encoding[\"pixel_values\"].squeeze(0)\n",
    "\n",
    "    # Convert labels to a tensor\n",
    "    encoding[\"labels\"] = torch.tensor(example[\"gender\"], dtype=torch.long)  # Ensure correct dtype\n",
    "\n",
    "    return encoding\n"
   ]
  },
  {
   "cell_type": "markdown",
   "id": "13b92119-2940-4e56-865a-6c959efc541c",
   "metadata": {},
   "source": [
    "## Apply Transformation to Dataset"
   ]
  },
  {
   "cell_type": "code",
   "execution_count": 21,
   "id": "b3bdee74-c82f-4067-9aad-873b6ca9aaab",
   "metadata": {
    "tags": []
   },
   "outputs": [
    {
     "name": "stderr",
     "output_type": "stream",
     "text": [
      "Loading cached processed dataset at /home/students/s289159/.cache/huggingface/datasets/nateraw___fairface/default/0.0.0/9d7c8b446334b65d582e9a176cefe55c7a92dff164a02e433fe59b5dffdbfe36/cache-14eeda4db9e9c537.arrow\n"
     ]
    }
   ],
   "source": [
    "ds[\"train\"] = ds[\"train\"].map(transform, remove_columns=[\"img_bytes\", \"age\", \"race\", \"id\"])\n",
    "ds[\"test\"] = ds[\"test\"].map(transform, remove_columns=[\"img_bytes\", \"age\", \"race\", \"id\"])\n",
    "\n",
    "train_dataset = ds[\"train\"].with_format(\"torch\")\n",
    "test_dataset = ds[\"test\"].with_format(\"torch\")"
   ]
  },
  {
   "cell_type": "markdown",
   "id": "7062b50f-c3c2-4453-87c5-ae43f8bd85c3",
   "metadata": {},
   "source": [
    "## Load Pretrained ViT Model"
   ]
  },
  {
   "cell_type": "code",
   "execution_count": 22,
   "id": "168b3834-0fde-46f1-ac96-0d05855341f9",
   "metadata": {
    "tags": []
   },
   "outputs": [
    {
     "name": "stderr",
     "output_type": "stream",
     "text": [
      "Some weights of ViTForImageClassification were not initialized from the model checkpoint at google/vit-base-patch16-224 and are newly initialized because the shapes did not match:\n",
      "- classifier.bias: found shape torch.Size([1000]) in the checkpoint and torch.Size([2]) in the model instantiated\n",
      "- classifier.weight: found shape torch.Size([1000, 768]) in the checkpoint and torch.Size([2, 768]) in the model instantiated\n",
      "You should probably TRAIN this model on a down-stream task to be able to use it for predictions and inference.\n"
     ]
    }
   ],
   "source": [
    "model = ViTForImageClassification.from_pretrained(\n",
    "    model_path,\n",
    "    num_labels=2,  # Gender classification (Male/Female)\n",
    "    id2label={0: \"Male\", 1: \"Female\"},\n",
    "    label2id={\"Male\": 0, \"Female\": 1},\n",
    "    ignore_mismatched_sizes=True  # This will reset the classifier layer\n",
    ")\n"
   ]
  },
  {
   "cell_type": "markdown",
   "id": "58297171-e1fb-4e84-a1e1-8d701617953c",
   "metadata": {},
   "source": [
    "## Set Training Arguments"
   ]
  },
  {
   "cell_type": "code",
   "execution_count": 23,
   "id": "626bb6bf-82dc-4f8e-b85c-fcb29c927329",
   "metadata": {
    "tags": []
   },
   "outputs": [],
   "source": [
    "import sklearn\n",
    "\n",
    "def compute_metrics(pred):\n",
    "    labels = pred.label_ids\n",
    "    print(pred)\n",
    "    try:\n",
    "        preds = pred.predictions.argmax(-1)\n",
    "    except:\n",
    "        preds = pred.predictions[0].argmax(-1)\n",
    "    precision, recall, f1, _ = sklearn.metrics.precision_recall_fscore_support(\n",
    "        labels, preds, average=\"macro\", labels=list(set(labels))\n",
    "    )\n",
    "    print(sklearn.metrics.classification_report(labels, preds, digits=4))\n",
    "    acc = sklearn.metrics.accuracy_score(labels, preds)\n",
    "    return {\"accuracy\": acc, \"f1\": f1, \"precision\": precision, \"recall\": recall}"
   ]
  },
  {
   "cell_type": "code",
   "execution_count": 24,
   "id": "ddeb0592-4d24-4cf7-ab06-e97386aa2d17",
   "metadata": {
    "tags": []
   },
   "outputs": [
    {
     "name": "stderr",
     "output_type": "stream",
     "text": [
      "/home/students/s289159/.conda/envs/airbnb-XAI-env/lib/python3.10/site-packages/transformers/training_args.py:1594: FutureWarning: `evaluation_strategy` is deprecated and will be removed in version 4.46 of 🤗 Transformers. Use `eval_strategy` instead\n",
      "  warnings.warn(\n"
     ]
    }
   ],
   "source": [
    "training_args = TrainingArguments(\n",
    "    output_dir=\"./fairface/saved_model\",\n",
    "    evaluation_strategy=\"epoch\",\n",
    "    save_strategy=\"epoch\",\n",
    "    per_device_train_batch_size=64,\n",
    "    per_device_eval_batch_size=32,\n",
    "    num_train_epochs=5,\n",
    "    learning_rate=5e-5,\n",
    "    weight_decay=0.01,\n",
    "    metric_for_best_model=\"f1\",\n",
    "    load_best_model_at_end=True,\n",
    "    greater_is_better=True,\n",
    "    logging_dir=\"./logs\",\n",
    "    logging_steps=50,\n",
    "    push_to_hub=False,\n",
    "    report_to=\"none\"\n",
    ")"
   ]
  },
  {
   "cell_type": "markdown",
   "id": "e2d4997f-0e3d-45c8-a985-16b51c15189e",
   "metadata": {},
   "source": [
    "## Initialize and Start Training"
   ]
  },
  {
   "cell_type": "code",
   "execution_count": 25,
   "id": "15036e3d-9641-4387-9f01-7c0174560ecd",
   "metadata": {},
   "outputs": [
    {
     "name": "stderr",
     "output_type": "stream",
     "text": [
      "/tmp/ipykernel_3094574/2365787641.py:1: FutureWarning: `tokenizer` is deprecated and will be removed in version 5.0.0 for `Trainer.__init__`. Use `processing_class` instead.\n",
      "  trainer = Trainer(\n",
      "Detected kernel version 5.4.0, which is below the recommended minimum of 5.5.0; this can cause the process to hang. It is recommended to upgrade the kernel to the minimum version or higher.\n"
     ]
    }
   ],
   "source": [
    "trainer = Trainer(\n",
    "    model=model,\n",
    "    args=training_args,\n",
    "    train_dataset=train_dataset,\n",
    "    eval_dataset=test_dataset,\n",
    "    tokenizer=processor,\n",
    "    compute_metrics=compute_metrics,\n",
    ")"
   ]
  },
  {
   "cell_type": "code",
   "execution_count": 26,
   "id": "a6223ca6-a905-4eb5-aed0-c76a67eeb85b",
   "metadata": {},
   "outputs": [
    {
     "data": {
      "text/html": [
       "\n",
       "    <div>\n",
       "      \n",
       "      <progress value='3475' max='3475' style='width:300px; height:20px; vertical-align: middle;'></progress>\n",
       "      [3475/3475 1:58:06, Epoch 5/5]\n",
       "    </div>\n",
       "    <table border=\"1\" class=\"dataframe\">\n",
       "  <thead>\n",
       " <tr style=\"text-align: left;\">\n",
       "      <th>Epoch</th>\n",
       "      <th>Training Loss</th>\n",
       "      <th>Validation Loss</th>\n",
       "      <th>Accuracy</th>\n",
       "      <th>F1</th>\n",
       "      <th>Precision</th>\n",
       "      <th>Recall</th>\n",
       "    </tr>\n",
       "  </thead>\n",
       "  <tbody>\n",
       "    <tr>\n",
       "      <td>1</td>\n",
       "      <td>0.171200</td>\n",
       "      <td>0.157550</td>\n",
       "      <td>0.937063</td>\n",
       "      <td>0.936884</td>\n",
       "      <td>0.936404</td>\n",
       "      <td>0.937768</td>\n",
       "    </tr>\n",
       "    <tr>\n",
       "      <td>2</td>\n",
       "      <td>0.087400</td>\n",
       "      <td>0.170212</td>\n",
       "      <td>0.941619</td>\n",
       "      <td>0.941357</td>\n",
       "      <td>0.941301</td>\n",
       "      <td>0.941414</td>\n",
       "    </tr>\n",
       "    <tr>\n",
       "      <td>3</td>\n",
       "      <td>0.017600</td>\n",
       "      <td>0.236257</td>\n",
       "      <td>0.939818</td>\n",
       "      <td>0.939689</td>\n",
       "      <td>0.939250</td>\n",
       "      <td>0.941012</td>\n",
       "    </tr>\n",
       "    <tr>\n",
       "      <td>4</td>\n",
       "      <td>0.003700</td>\n",
       "      <td>0.277537</td>\n",
       "      <td>0.943420</td>\n",
       "      <td>0.943114</td>\n",
       "      <td>0.943503</td>\n",
       "      <td>0.942784</td>\n",
       "    </tr>\n",
       "    <tr>\n",
       "      <td>5</td>\n",
       "      <td>0.000200</td>\n",
       "      <td>0.287134</td>\n",
       "      <td>0.946493</td>\n",
       "      <td>0.946245</td>\n",
       "      <td>0.946251</td>\n",
       "      <td>0.946239</td>\n",
       "    </tr>\n",
       "  </tbody>\n",
       "</table><p>"
      ],
      "text/plain": [
       "<IPython.core.display.HTML object>"
      ]
     },
     "metadata": {},
     "output_type": "display_data"
    },
    {
     "name": "stdout",
     "output_type": "stream",
     "text": [
      "<transformers.trainer_utils.EvalPrediction object at 0x7f880be836d0>\n",
      "              precision    recall  f1-score   support\n",
      "\n",
      "           0     0.9193    0.9482    0.9335      4399\n",
      "           1     0.9535    0.9274    0.9402      5039\n",
      "\n",
      "    accuracy                         0.9371      9438\n",
      "   macro avg     0.9364    0.9378    0.9369      9438\n",
      "weighted avg     0.9376    0.9371    0.9371      9438\n",
      "\n",
      "<transformers.trainer_utils.EvalPrediction object at 0x7f880be81f00>\n",
      "              precision    recall  f1-score   support\n",
      "\n",
      "           0     0.9365    0.9384    0.9374      4399\n",
      "           1     0.9461    0.9444    0.9453      5039\n",
      "\n",
      "    accuracy                         0.9416      9438\n",
      "   macro avg     0.9413    0.9414    0.9414      9438\n",
      "weighted avg     0.9416    0.9416    0.9416      9438\n",
      "\n",
      "<transformers.trainer_utils.EvalPrediction object at 0x7f880be800d0>\n",
      "              precision    recall  f1-score   support\n",
      "\n",
      "           0     0.9161    0.9586    0.9369      4399\n",
      "           1     0.9624    0.9234    0.9425      5039\n",
      "\n",
      "    accuracy                         0.9398      9438\n",
      "   macro avg     0.9392    0.9410    0.9397      9438\n",
      "weighted avg     0.9408    0.9398    0.9399      9438\n",
      "\n",
      "<transformers.trainer_utils.EvalPrediction object at 0x7f880be0db10>\n",
      "              precision    recall  f1-score   support\n",
      "\n",
      "           0     0.9446    0.9334    0.9389      4399\n",
      "           1     0.9424    0.9522    0.9473      5039\n",
      "\n",
      "    accuracy                         0.9434      9438\n",
      "   macro avg     0.9435    0.9428    0.9431      9438\n",
      "weighted avg     0.9434    0.9434    0.9434      9438\n",
      "\n",
      "<transformers.trainer_utils.EvalPrediction object at 0x7f880be0c880>\n",
      "              precision    recall  f1-score   support\n",
      "\n",
      "           0     0.9427    0.9425    0.9426      4399\n",
      "           1     0.9498    0.9500    0.9499      5039\n",
      "\n",
      "    accuracy                         0.9465      9438\n",
      "   macro avg     0.9463    0.9462    0.9462      9438\n",
      "weighted avg     0.9465    0.9465    0.9465      9438\n",
      "\n"
     ]
    },
    {
     "data": {
      "text/plain": [
       "TrainOutput(global_step=3475, training_loss=0.06065970360267934, metrics={'train_runtime': 7088.9574, 'train_samples_per_second': 31.334, 'train_steps_per_second': 0.49, 'total_flos': 1.7212908193141248e+19, 'train_loss': 0.06065970360267934, 'epoch': 5.0})"
      ]
     },
     "execution_count": 26,
     "metadata": {},
     "output_type": "execute_result"
    }
   ],
   "source": [
    "trainer.train()\n"
   ]
  },
  {
   "cell_type": "markdown",
   "id": "926807bd-46e8-4188-9bf3-cc35ccf77e92",
   "metadata": {},
   "source": [
    "## Evaluate the Model"
   ]
  },
  {
   "cell_type": "code",
   "execution_count": 27,
   "id": "16b986b9-c624-4571-abf7-00d0f53e2e3b",
   "metadata": {},
   "outputs": [
    {
     "data": {
      "text/html": [
       "\n",
       "    <div>\n",
       "      \n",
       "      <progress value='295' max='295' style='width:300px; height:20px; vertical-align: middle;'></progress>\n",
       "      [295/295 02:40]\n",
       "    </div>\n",
       "    "
      ],
      "text/plain": [
       "<IPython.core.display.HTML object>"
      ]
     },
     "metadata": {},
     "output_type": "display_data"
    },
    {
     "name": "stdout",
     "output_type": "stream",
     "text": [
      "<transformers.trainer_utils.EvalPrediction object at 0x7f880bea3e20>\n",
      "              precision    recall  f1-score   support\n",
      "\n",
      "           0     0.9427    0.9425    0.9426      4399\n",
      "           1     0.9498    0.9500    0.9499      5039\n",
      "\n",
      "    accuracy                         0.9465      9438\n",
      "   macro avg     0.9463    0.9462    0.9462      9438\n",
      "weighted avg     0.9465    0.9465    0.9465      9438\n",
      "\n",
      "{'eval_loss': 0.2871343493461609, 'eval_accuracy': 0.9464929010383556, 'eval_f1': 0.9462449445786155, 'eval_precision': 0.9462514075662097, 'eval_recall': 0.9462385031218871, 'eval_runtime': 161.7901, 'eval_samples_per_second': 58.335, 'eval_steps_per_second': 1.823, 'epoch': 5.0}\n"
     ]
    }
   ],
   "source": [
    "metrics = trainer.evaluate()\n",
    "print(metrics)\n"
   ]
  },
  {
   "cell_type": "markdown",
   "id": "c955cf8d-1846-4cc9-89dc-76ec80ee16a3",
   "metadata": {},
   "source": [
    "## Save the Model"
   ]
  },
  {
   "cell_type": "code",
   "execution_count": 28,
   "id": "994a631e-7145-4c4f-9731-367939b2d337",
   "metadata": {},
   "outputs": [],
   "source": [
    "trainer.save_model(os.path.join(\"fairface\", \"saved_model\", \"best_model\"))"
   ]
  },
  {
   "cell_type": "code",
   "execution_count": null,
   "id": "60a05cf3-d66d-43ba-abad-309570bf0bf5",
   "metadata": {},
   "outputs": [],
   "source": []
  },
  {
   "cell_type": "code",
   "execution_count": null,
   "id": "963dd306-7a10-4798-921b-05641a8dd40e",
   "metadata": {},
   "outputs": [],
   "source": []
  }
 ],
 "metadata": {
  "kernelspec": {
   "display_name": "airbnb-XAI-env",
   "language": "python",
   "name": "airbnb-xai-env"
  },
  "language_info": {
   "codemirror_mode": {
    "name": "ipython",
    "version": 3
   },
   "file_extension": ".py",
   "mimetype": "text/x-python",
   "name": "python",
   "nbconvert_exporter": "python",
   "pygments_lexer": "ipython3",
   "version": "3.10.4"
  }
 },
 "nbformat": 4,
 "nbformat_minor": 5
}
